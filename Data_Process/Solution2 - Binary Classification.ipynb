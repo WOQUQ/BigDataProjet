{
  "nbformat": 4,
  "nbformat_minor": 0,
  "metadata": {
    "colab": {
      "name": "Solution2 -Binary Classification.ipynb",
      "provenance": [],
      "collapsed_sections": []
    },
    "kernelspec": {
      "name": "python3",
      "display_name": "Python 3"
    }
  },
  "cells": [
    {
      "cell_type": "code",
      "metadata": {
        "id": "GY-WNzMJIOM5",
        "colab_type": "code",
        "colab": {}
      },
      "source": [
        "# load packages\n",
        "import pandas as pd\n",
        "import numpy as np\n",
        "import matplotlib.pyplot as plt\n",
        "import seaborn as sns\n",
        "\n",
        "from sklearn.preprocessing import LabelEncoder\n",
        "from sklearn.preprocessing import OneHotEncoder\n",
        "from sklearn.preprocessing import StandardScaler\n",
        "import warnings\n",
        "warnings.filterwarnings('ignore')\n",
        "%matplotlib inline"
      ],
      "execution_count": 0,
      "outputs": []
    },
    {
      "cell_type": "code",
      "metadata": {
        "id": "TkAKCN6gIjbd",
        "colab_type": "code",
        "outputId": "bed3fd7e-eaed-4e04-b6c1-1e9f562c4a32",
        "colab": {
          "base_uri": "https://localhost:8080/",
          "height": 35
        }
      },
      "source": [
        "from google.colab import drive\n",
        "drive.mount('/content/drive')"
      ],
      "execution_count": 0,
      "outputs": [
        {
          "output_type": "stream",
          "text": [
            "Drive already mounted at /content/drive; to attempt to forcibly remount, call drive.mount(\"/content/drive\", force_remount=True).\n"
          ],
          "name": "stdout"
        }
      ]
    },
    {
      "cell_type": "code",
      "metadata": {
        "id": "oTWbgqa4IXaw",
        "colab_type": "code",
        "colab": {}
      },
      "source": [
        "df_train = pd.read_csv('/content/drive/My Drive/Colab Notebooks/dataset/train.csv')\n",
        "\n",
        "df_predict = pd.read_csv('/content/drive/My Drive/Colab Notebooks/dataset/predict.csv')"
      ],
      "execution_count": 0,
      "outputs": []
    },
    {
      "cell_type": "markdown",
      "metadata": {
        "id": "pyr6hMsfIxFL",
        "colab_type": "text"
      },
      "source": [
        "### Apart from we have done before, we reconsider this classification problem\n",
        "As we need to help a life insurance company by advices for their contracts, and we think the number of levels of risk are too many and not necessary. As we only need to tell if this contract is signable or not. "
      ]
    },
    {
      "cell_type": "code",
      "metadata": {
        "id": "YRzk7rJXIh5B",
        "colab_type": "code",
        "outputId": "0e0cb086-818c-48b9-f2bc-ea0ec4e12c86",
        "colab": {
          "base_uri": "https://localhost:8080/",
          "height": 313
        }
      },
      "source": [
        "sns.countplot(x=df_train.Response)\n",
        "plt.title(\"Distribution of rows by response categories\")"
      ],
      "execution_count": 0,
      "outputs": [
        {
          "output_type": "execute_result",
          "data": {
            "text/plain": [
              "Text(0.5, 1.0, 'Distribution of rows by response categories')"
            ]
          },
          "metadata": {
            "tags": []
          },
          "execution_count": 176
        },
        {
          "output_type": "display_data",
          "data": {
            "image/png": "[encoded data removed]",
            "text/plain": [
              "<Figure size 432x288 with 1 Axes>"
            ]
          },
          "metadata": {
            "tags": []
          }
        }
      ]
    },
    {
      "cell_type": "code",
      "metadata": {
        "id": "Yy1WsP0QJalv",
        "colab_type": "code",
        "colab": {}
      },
      "source": [
        "# So we consider the class 6,7,8 as the contracts can be very risky and not good for their company.\n",
        "# However, the class 1,2,3,4,5 are the levels can be accept by the company."
      ],
      "execution_count": 0,
      "outputs": []
    },
    {
      "cell_type": "markdown",
      "metadata": {
        "id": "_gEivsArJ5BA",
        "colab_type": "text"
      },
      "source": [
        "### Transformation"
      ]
    },
    {
      "cell_type": "code",
      "metadata": {
        "id": "b9EkfRN1J1Os",
        "colab_type": "code",
        "outputId": "807fff3b-8402-4900-b6ce-ff56f0c1cb77",
        "colab": {
          "base_uri": "https://localhost:8080/",
          "height": 368
        }
      },
      "source": [
        "def new_response(row):\n",
        "    if (row['Response']<=5) & (row['Response']>=0):\n",
        "        val=0\n",
        "    elif (row['Response']>=6) & (row['Response']<=8):\n",
        "        val=1\n",
        "    else:\n",
        "        val=-1\n",
        "    return val\n",
        "\n",
        "\n",
        "#create a copy of original dataset\n",
        "df_train_transformed = df_train.copy()\n",
        "\n",
        "#create a new column\n",
        "df_train_transformed['Final_Response']=df_train_transformed.apply(new_response,axis=1)\n",
        "\n",
        "\n",
        "#print unique values of target variable\n",
        "print(\"Unique values in Target Variable: {}\".format(df_train_transformed.Final_Response.dtype))\n",
        "print(\"Unique values in Target Variable: {}\".format(df_train_transformed.Final_Response.unique()))\n",
        "print(\"Total Number of unique values : {}\".format(len(df_train_transformed.Final_Response.unique())))\n",
        "\n",
        "#distribution plot for target classes\n",
        "sns.countplot(x=df_train_transformed.Final_Response).set_title('Distribution of rows by response categories')"
      ],
      "execution_count": 0,
      "outputs": [
        {
          "output_type": "stream",
          "text": [
            "Unique values in Target Variable: int64\n",
            "Unique values in Target Variable: [1 0]\n",
            "Total Number of unique values : 2\n"
          ],
          "name": "stdout"
        },
        {
          "output_type": "execute_result",
          "data": {
            "text/plain": [
              "Text(0.5, 1.0, 'Distribution of rows by response categories')"
            ]
          },
          "metadata": {
            "tags": []
          },
          "execution_count": 142
        },
        {
          "output_type": "display_data",
          "data": {
            "image/png": "[encoded data removed]",
            "text/plain": [
              "<Figure size 432x288 with 1 Axes>"
            ]
          },
          "metadata": {
            "tags": []
          }
        }
      ]
    },
    {
      "cell_type": "code",
      "metadata": {
        "id": "u7BYe6ETKBF8",
        "colab_type": "code",
        "colab": {}
      },
      "source": [
        "df_train_transformed.drop(axis=1, labels=['Response'], inplace=True)\n",
        "df_train_transformed.rename(columns={\"Final_Response\":\"Response\"},inplace=True)"
      ],
      "execution_count": 0,
      "outputs": []
    },
    {
      "cell_type": "code",
      "metadata": {
        "id": "N_FZFcZVLJrE",
        "colab_type": "code",
        "colab": {}
      },
      "source": [
        "def missing_value_info(df):\n",
        "    total_num = df.shape[0]\n",
        "    null_counts = df.notnull().sum()[df.notnull().sum() != total_num].sort_values(ascending=False)\n",
        "    cols_with_null = (total_num - null_counts) / total_num * 100\n",
        "    return cols_with_null\n",
        "\n",
        "def dataset_type_info(df):\n",
        "    columns_df=pd.DataFrame({'column_names':df.columns,'datatypes':df.dtypes},index=None)\n",
        "    x=columns_df.groupby(by=['datatypes']).count()\n",
        "    x.reset_index(inplace=True)\n",
        "    x.rename(columns={\"column_names\":\"Number_of_columns\"},inplace=True)\n",
        "    lst=[]\n",
        "    for data_type in x.datatypes:\n",
        "        v=list(df.select_dtypes(include=data_type).columns)\n",
        "        lst.append(v)\n",
        "        x['Column_Names']=pd.Series(lst)\n",
        "    return x"
      ],
      "execution_count": 0,
      "outputs": []
    },
    {
      "cell_type": "code",
      "metadata": {
        "id": "0Jii3nAUSu-z",
        "colab_type": "code",
        "outputId": "b48fc428-8a4e-4810-c086-eddb63f8ae54",
        "colab": {
          "base_uri": "https://localhost:8080/",
          "height": 305
        }
      },
      "source": [
        "missing_value_info(df_train_transformed)"
      ],
      "execution_count": 0,
      "outputs": [
        {
          "output_type": "execute_result",
          "data": {
            "text/plain": [
              "Employment_Info_1       0.032268\n",
              "Employment_Info_4      11.407755\n",
              "Medical_History_1      14.960683\n",
              "Employment_Info_6      18.262258\n",
              "Family_Hist_4          32.317726\n",
              "Insurance_History_5    42.764219\n",
              "Family_Hist_2          48.270240\n",
              "Family_Hist_3          57.662064\n",
              "Family_Hist_5          70.399620\n",
              "InsuredInfo_9          74.940983\n",
              "Medical_History_15     75.097230\n",
              "InsuredInfo_8          87.919702\n",
              "Medical_History_24     93.593859\n",
              "Medical_History_32     98.131825\n",
              "Medical_History_10     99.064214\n",
              "dtype: float64"
            ]
          },
          "metadata": {
            "tags": []
          },
          "execution_count": 145
        }
      ]
    },
    {
      "cell_type": "code",
      "metadata": {
        "id": "V7j2YjbJTITq",
        "colab_type": "code",
        "colab": {}
      },
      "source": [
        "cols_2_delete = missing_value_info(df_train_transformed)[missing_value_info(df_train_transformed) > 50].index.to_list()\n",
        "df_train_transformed = df_train_transformed.drop(cols_2_delete, axis=1)"
      ],
      "execution_count": 0,
      "outputs": []
    },
    {
      "cell_type": "code",
      "metadata": {
        "id": "LCP05LA5XIU2",
        "colab_type": "code",
        "outputId": "0f13aa18-311e-45e2-dbc9-c719387aabfd",
        "colab": {
          "base_uri": "https://localhost:8080/",
          "height": 142
        }
      },
      "source": [
        "df_train_transformed = df_train_transformed.drop(\"InsuredInfo_7\", axis=1) # Gender column\n",
        "dataset_type_info(df_train_transformed)"
      ],
      "execution_count": 0,
      "outputs": [
        {
          "output_type": "execute_result",
          "data": {
            "text/html": [
              "<div>\n",
              "<style scoped>\n",
              "    .dataframe tbody tr th:only-of-type {\n",
              "        vertical-align: middle;\n",
              "    }\n",
              "\n",
              "    .dataframe tbody tr th {\n",
              "        vertical-align: top;\n",
              "    }\n",
              "\n",
              "    .dataframe thead th {\n",
              "        text-align: right;\n",
              "    }\n",
              "</style>\n",
              "<table border=\"1\" class=\"dataframe\">\n",
              "  <thead>\n",
              "    <tr style=\"text-align: right;\">\n",
              "      <th></th>\n",
              "      <th>datatypes</th>\n",
              "      <th>Number_of_columns</th>\n",
              "      <th>Column_Names</th>\n",
              "    </tr>\n",
              "  </thead>\n",
              "  <tbody>\n",
              "    <tr>\n",
              "      <th>0</th>\n",
              "      <td>int64</td>\n",
              "      <td>107</td>\n",
              "      <td>[Product_Info_1, Product_Info_3, Product_Info_...</td>\n",
              "    </tr>\n",
              "    <tr>\n",
              "      <th>1</th>\n",
              "      <td>float64</td>\n",
              "      <td>12</td>\n",
              "      <td>[Product_Info_4, Ins_Age, Ht, Wt, BMI, Employm...</td>\n",
              "    </tr>\n",
              "    <tr>\n",
              "      <th>2</th>\n",
              "      <td>object</td>\n",
              "      <td>1</td>\n",
              "      <td>[Product_Info_2]</td>\n",
              "    </tr>\n",
              "  </tbody>\n",
              "</table>\n",
              "</div>"
            ],
            "text/plain": [
              "  datatypes  ...                                       Column_Names\n",
              "0     int64  ...  [Product_Info_1, Product_Info_3, Product_Info_...\n",
              "1   float64  ...  [Product_Info_4, Ins_Age, Ht, Wt, BMI, Employm...\n",
              "2    object  ...                                   [Product_Info_2]\n",
              "\n",
              "[3 rows x 3 columns]"
            ]
          },
          "metadata": {
            "tags": []
          },
          "execution_count": 147
        }
      ]
    },
    {
      "cell_type": "code",
      "metadata": {
        "id": "pMseSdGwXLtJ",
        "colab_type": "code",
        "colab": {}
      },
      "source": [
        "le = LabelEncoder()\n",
        "df_train_transformed['Product_Info_2_en'] = le.fit_transform(df_train_transformed['Product_Info_2'])\n",
        "df_train_transformed.drop(axis=1, labels=['Product_Info_2'], inplace=True)"
      ],
      "execution_count": 0,
      "outputs": []
    },
    {
      "cell_type": "code",
      "metadata": {
        "id": "HbeCD0hGZEfA",
        "colab_type": "code",
        "colab": {}
      },
      "source": [
        "cols_with_null = missing_value_info(df_train_transformed)\n",
        "for index in cols_with_null.index:\n",
        "    median = df_train_transformed[index].median()\n",
        "    df_train_transformed[index] = df_train_transformed[index].fillna(median)"
      ],
      "execution_count": 0,
      "outputs": []
    },
    {
      "cell_type": "code",
      "metadata": {
        "id": "R8KNT2v9ZXmN",
        "colab_type": "code",
        "outputId": "b8304d7d-3ccb-419c-998c-a83c98fff913",
        "colab": {
          "base_uri": "https://localhost:8080/",
          "height": 35
        }
      },
      "source": [
        "missing_value_info(df_train_transformed)"
      ],
      "execution_count": 0,
      "outputs": [
        {
          "output_type": "execute_result",
          "data": {
            "text/plain": [
              "Series([], dtype: float64)"
            ]
          },
          "metadata": {
            "tags": []
          },
          "execution_count": 150
        }
      ]
    },
    {
      "cell_type": "code",
      "metadata": {
        "id": "FhgNhlKIZZ6Q",
        "colab_type": "code",
        "colab": {}
      },
      "source": [
        "from sklearn.tree import DecisionTreeClassifier\n",
        "from sklearn.linear_model import LogisticRegression\n",
        "from sklearn.ensemble import RandomForestClassifier\n",
        "from sklearn.linear_model import SGDClassifier \n",
        "from sklearn.svm import SVC\n",
        "from sklearn.neighbors import KNeighborsClassifier\n",
        "from sklearn.naive_bayes import GaussianNB\n",
        "from xgboost import XGBClassifier\n",
        "\n",
        "from sklearn import ensemble\n",
        "from sklearn import metrics\n",
        "from sklearn.metrics import classification_report,recall_score,accuracy_score,precision_score\n",
        "from sklearn.model_selection import train_test_split\n",
        "from sklearn.metrics import confusion_matrix #for confusion matrix\n",
        "from sklearn.model_selection import KFold #for K-fold cross validation\n",
        "from sklearn.model_selection import cross_val_score #score evaluation\n",
        "from sklearn.model_selection import cross_val_predict #prediction"
      ],
      "execution_count": 0,
      "outputs": []
    },
    {
      "cell_type": "code",
      "metadata": {
        "id": "fvwraI5gaD1Q",
        "colab_type": "code",
        "outputId": "0cd6c497-d2e0-4732-eeb7-b0dd2973c3bb",
        "colab": {
          "base_uri": "https://localhost:8080/",
          "height": 89
        }
      },
      "source": [
        "y = df_train_transformed.Response\n",
        "X = df_train_transformed.drop(labels=['Response'],axis=1)\n",
        "\n",
        "# Break off validation set from training data\n",
        "X_train, X_valid, y_train, y_valid = train_test_split(X,y,test_size=.30,random_state=0)\n",
        "\n",
        "# print shape of dataset\n",
        "print(\"Shape of X_train dataset {}\".format(X_train.shape))\n",
        "print(\"Shape of X_test dataset {}\".format(X_valid.shape))\n",
        "\n",
        "print(\"Shape of y_train dataset {}\".format(y_train.shape))\n",
        "print(\"Shape of y_valid dataset {}\".format(y_valid.shape))"
      ],
      "execution_count": 0,
      "outputs": [
        {
          "output_type": "stream",
          "text": [
            "Shape of X_train dataset (41216, 119)\n",
            "Shape of X_test dataset (17665, 119)\n",
            "Shape of y_train dataset (41216,)\n",
            "Shape of y_valid dataset (17665,)\n"
          ],
          "name": "stdout"
        }
      ]
    },
    {
      "cell_type": "code",
      "metadata": {
        "id": "JIRZlRD2aOhQ",
        "colab_type": "code",
        "colab": {}
      },
      "source": [
        "#set seed for same results everytime\n",
        "seed=0\n",
        "\n",
        "#declare the models\n",
        "dt=DecisionTreeClassifier(random_state=seed)\n",
        "rf=RandomForestClassifier(max_depth=10, n_estimators=1000, random_state=seed)\n",
        "lr=LogisticRegression(random_state=seed)\n",
        "adb=ensemble.AdaBoostClassifier(random_state=seed, n_estimators=200, learning_rate=0.1)\n",
        "gbc=ensemble.GradientBoostingClassifier(n_estimators=500,random_state=seed, learning_rate=0.1)\n",
        "xgb=XGBClassifier(n_estimators=900, learning_rate=0.1, random_state=seed)\n",
        "svc=SVC(kernel='linear', C=1, gamma=0.1, random_state=seed)\n",
        "\n",
        "\n",
        "#create a list of models\n",
        "#models=[dt,rf,lr,adb,gbc,xgb,svc]\n",
        "models = [rf, xgb, gbc]\n",
        "\n",
        "\n",
        "def score_model(X_train,y_train,X_valid,y_valid):\n",
        "    df_columns=[]\n",
        "    df=pd.DataFrame(columns=df_columns)\n",
        "    i=0\n",
        "    #read model one by one\n",
        "    for model in models:\n",
        "        model.fit(X_train,y_train)\n",
        "        y_pred=model.predict(X_valid)\n",
        "        \n",
        "        #compute metrics\n",
        "        train_accuracy=model.score(X_train,y_train)\n",
        "        test_accuracy=model.score(X_valid,y_valid)\n",
        "        \n",
        "        p_score=metrics.precision_score(y_valid,y_pred, average='weighted')\n",
        "        r_score=metrics.recall_score(y_valid,y_pred, average='weighted')\n",
        "        f1_score=metrics.f1_score(y_valid,y_pred, average='weighted')\n",
        "        \n",
        "        \n",
        "        #insert in dataframe\n",
        "        df.loc[i,\"Model_Name\"]=model.__class__.__name__\n",
        "        df.loc[i,\"Precision\"]=round(p_score,2)\n",
        "        df.loc[i,\"Recall\"]=round(r_score,2)\n",
        "        df.loc[i,\"Train_Accuracy\"]=round(train_accuracy,2)\n",
        "        df.loc[i,\"Test_Accuracy\"]=round(test_accuracy,2)\n",
        "        df.loc[i,\"F1_Score\"]=round(f1_score,2)\n",
        "        \n",
        "        \n",
        "        i+=1\n",
        "    \n",
        "    #sort values by accuracy\n",
        "    df.sort_values(by=['F1_Score'],ascending=False,inplace=True)\n",
        "    return(df)\n"
      ],
      "execution_count": 0,
      "outputs": []
    },
    {
      "cell_type": "code",
      "metadata": {
        "id": "iev8J0w_aYRq",
        "colab_type": "code",
        "outputId": "27add198-1684-419e-a81e-ecf1bea61e76",
        "colab": {
          "base_uri": "https://localhost:8080/",
          "height": 266
        }
      },
      "source": [
        "report=score_model(X_train, y_train, X_valid, y_valid)\n",
        "report"
      ],
      "execution_count": 0,
      "outputs": [
        {
          "output_type": "execute_result",
          "data": {
            "text/html": [
              "<div>\n",
              "<style scoped>\n",
              "    .dataframe tbody tr th:only-of-type {\n",
              "        vertical-align: middle;\n",
              "    }\n",
              "\n",
              "    .dataframe tbody tr th {\n",
              "        vertical-align: top;\n",
              "    }\n",
              "\n",
              "    .dataframe thead th {\n",
              "        text-align: right;\n",
              "    }\n",
              "</style>\n",
              "<table border=\"1\" class=\"dataframe\">\n",
              "  <thead>\n",
              "    <tr style=\"text-align: right;\">\n",
              "      <th></th>\n",
              "      <th>Model_Name</th>\n",
              "      <th>Precision</th>\n",
              "      <th>Recall</th>\n",
              "      <th>Train_Accuracy</th>\n",
              "      <th>Test_Accuracy</th>\n",
              "      <th>F1_Score</th>\n",
              "    </tr>\n",
              "  </thead>\n",
              "  <tbody>\n",
              "    <tr>\n",
              "      <th>4</th>\n",
              "      <td>GradientBoostingClassifier</td>\n",
              "      <td>0.80</td>\n",
              "      <td>0.80</td>\n",
              "      <td>0.82</td>\n",
              "      <td>0.80</td>\n",
              "      <td>0.79</td>\n",
              "    </tr>\n",
              "    <tr>\n",
              "      <th>5</th>\n",
              "      <td>XGBClassifier</td>\n",
              "      <td>0.80</td>\n",
              "      <td>0.80</td>\n",
              "      <td>0.83</td>\n",
              "      <td>0.80</td>\n",
              "      <td>0.79</td>\n",
              "    </tr>\n",
              "    <tr>\n",
              "      <th>1</th>\n",
              "      <td>RandomForestClassifier</td>\n",
              "      <td>0.80</td>\n",
              "      <td>0.79</td>\n",
              "      <td>0.81</td>\n",
              "      <td>0.79</td>\n",
              "      <td>0.77</td>\n",
              "    </tr>\n",
              "    <tr>\n",
              "      <th>3</th>\n",
              "      <td>AdaBoostClassifier</td>\n",
              "      <td>0.79</td>\n",
              "      <td>0.78</td>\n",
              "      <td>0.78</td>\n",
              "      <td>0.78</td>\n",
              "      <td>0.77</td>\n",
              "    </tr>\n",
              "    <tr>\n",
              "      <th>6</th>\n",
              "      <td>SVC</td>\n",
              "      <td>0.77</td>\n",
              "      <td>0.77</td>\n",
              "      <td>0.76</td>\n",
              "      <td>0.77</td>\n",
              "      <td>0.76</td>\n",
              "    </tr>\n",
              "    <tr>\n",
              "      <th>0</th>\n",
              "      <td>DecisionTreeClassifier</td>\n",
              "      <td>0.72</td>\n",
              "      <td>0.72</td>\n",
              "      <td>1.00</td>\n",
              "      <td>0.72</td>\n",
              "      <td>0.72</td>\n",
              "    </tr>\n",
              "    <tr>\n",
              "      <th>2</th>\n",
              "      <td>LogisticRegression</td>\n",
              "      <td>0.69</td>\n",
              "      <td>0.70</td>\n",
              "      <td>0.70</td>\n",
              "      <td>0.70</td>\n",
              "      <td>0.68</td>\n",
              "    </tr>\n",
              "  </tbody>\n",
              "</table>\n",
              "</div>"
            ],
            "text/plain": [
              "                   Model_Name  Precision  ...  Test_Accuracy  F1_Score\n",
              "4  GradientBoostingClassifier       0.80  ...           0.80      0.79\n",
              "5               XGBClassifier       0.80  ...           0.80      0.79\n",
              "1      RandomForestClassifier       0.80  ...           0.79      0.77\n",
              "3          AdaBoostClassifier       0.79  ...           0.78      0.77\n",
              "6                         SVC       0.77  ...           0.77      0.76\n",
              "0      DecisionTreeClassifier       0.72  ...           0.72      0.72\n",
              "2          LogisticRegression       0.69  ...           0.70      0.68\n",
              "\n",
              "[7 rows x 6 columns]"
            ]
          },
          "metadata": {
            "tags": []
          },
          "execution_count": 73
        }
      ]
    },
    {
      "cell_type": "code",
      "metadata": {
        "id": "6oYU8pTvajxr",
        "colab_type": "code",
        "outputId": "b4e50f5e-1342-4856-a457-ac7dc8f66943",
        "colab": {
          "base_uri": "https://localhost:8080/",
          "height": 284
        }
      },
      "source": [
        "# Exploring Numerical variables\n",
        "numerical_cols=[\"Ins_Age\",\"Ht\",\"Wt\",\"BMI\"]\n",
        "\n",
        "sns.boxplot(data=df_train_transformed[numerical_cols])"
      ],
      "execution_count": 0,
      "outputs": [
        {
          "output_type": "execute_result",
          "data": {
            "text/plain": [
              "<matplotlib.axes._subplots.AxesSubplot at 0x7fd11c942cc0>"
            ]
          },
          "metadata": {
            "tags": []
          },
          "execution_count": 120
        },
        {
          "output_type": "display_data",
          "data": {
            "image/png": "[encoded data removed]",
            "text/plain": [
              "<Figure size 432x288 with 1 Axes>"
            ]
          },
          "metadata": {
            "tags": []
          }
        }
      ]
    },
    {
      "cell_type": "code",
      "metadata": {
        "id": "r8BwDwh3x2Dx",
        "colab_type": "code",
        "colab": {}
      },
      "source": [
        "#function to remove outliers\n",
        "def remove_outlier(df_in, col_name):\n",
        "    q1 = df_in[col_name].quantile(0.25)\n",
        "    q3 = df_in[col_name].quantile(0.75)\n",
        "    iqr = q3-q1 #Interquartile range\n",
        "    fence_low  = q1-1.5*iqr\n",
        "    fence_high = q3+1.5*iqr\n",
        "    df_out = df_in.loc[(df_in[col_name] > fence_low) & (df_in[col_name] < fence_high)]\n",
        "    return df_out\n",
        "\n",
        "\n",
        "df_train_noOut = remove_outlier(df_train_transformed,'BMI')\n",
        "df_train_noOut = remove_outlier(df_train_noOut,'Wt')\n",
        "df_train_noOut = remove_outlier(df_train_noOut,'Ht')"
      ],
      "execution_count": 0,
      "outputs": []
    },
    {
      "cell_type": "code",
      "metadata": {
        "id": "umtwHtDry8Qa",
        "colab_type": "code",
        "outputId": "262feb54-a3d7-40ad-909a-d4a695ed8b1e",
        "colab": {
          "base_uri": "https://localhost:8080/",
          "height": 284
        }
      },
      "source": [
        "sns.boxplot(data=df_train_noOut[numerical_cols])"
      ],
      "execution_count": 0,
      "outputs": [
        {
          "output_type": "execute_result",
          "data": {
            "text/plain": [
              "<matplotlib.axes._subplots.AxesSubplot at 0x7fd1295fc550>"
            ]
          },
          "metadata": {
            "tags": []
          },
          "execution_count": 152
        },
        {
          "output_type": "display_data",
          "data": {
            "image/png": "[encoded data removed]",
            "text/plain": [
              "<Figure size 432x288 with 1 Axes>"
            ]
          },
          "metadata": {
            "tags": []
          }
        }
      ]
    },
    {
      "cell_type": "code",
      "metadata": {
        "id": "ZHz4_H2VzLM9",
        "colab_type": "code",
        "colab": {}
      },
      "source": [
        "X_noOut = df_train_noOut.drop('Response', axis=1)\n",
        "y_noOut = df_train_noOut['Response']"
      ],
      "execution_count": 0,
      "outputs": []
    },
    {
      "cell_type": "code",
      "metadata": {
        "id": "uSYe30HCTL4u",
        "colab_type": "code",
        "outputId": "ad3fe7ef-369b-4166-b719-69c90fa4c4d8",
        "colab": {
          "base_uri": "https://localhost:8080/",
          "height": 89
        }
      },
      "source": [
        "X_train, X_valid, y_train, y_valid = train_test_split(X_noOut,y_noOut,test_size=.30,random_state=0)\n",
        "\n",
        "# print shape of dataset\n",
        "print(\"Shape of X_train dataset {}\".format(X_train.shape))\n",
        "print(\"Shape of X_test dataset {}\".format(X_valid.shape))\n",
        "\n",
        "print(\"Shape of y_train dataset {}\".format(y_train.shape))\n",
        "print(\"Shape of y_valid dataset {}\".format(y_valid.shape))\n"
      ],
      "execution_count": 0,
      "outputs": [
        {
          "output_type": "stream",
          "text": [
            "Shape of X_train dataset (39810, 119)\n",
            "Shape of X_test dataset (17062, 119)\n",
            "Shape of y_train dataset (39810,)\n",
            "Shape of y_valid dataset (17062,)\n"
          ],
          "name": "stdout"
        }
      ]
    },
    {
      "cell_type": "code",
      "metadata": {
        "id": "6zv73jMyXkIG",
        "colab_type": "code",
        "outputId": "9a89734a-6c9c-4c57-820a-b47a0dc775e3",
        "colab": {
          "base_uri": "https://localhost:8080/",
          "height": 142
        }
      },
      "source": [
        "# We will only focus on the models more accurate\n",
        "# RandomForest GradientBoostin Xgboost\n",
        "# seed = 0\n",
        "report=score_model(X_train, y_train, X_valid, y_valid)\n",
        "report"
      ],
      "execution_count": 0,
      "outputs": [
        {
          "output_type": "execute_result",
          "data": {
            "text/html": [
              "<div>\n",
              "<style scoped>\n",
              "    .dataframe tbody tr th:only-of-type {\n",
              "        vertical-align: middle;\n",
              "    }\n",
              "\n",
              "    .dataframe tbody tr th {\n",
              "        vertical-align: top;\n",
              "    }\n",
              "\n",
              "    .dataframe thead th {\n",
              "        text-align: right;\n",
              "    }\n",
              "</style>\n",
              "<table border=\"1\" class=\"dataframe\">\n",
              "  <thead>\n",
              "    <tr style=\"text-align: right;\">\n",
              "      <th></th>\n",
              "      <th>Model_Name</th>\n",
              "      <th>Precision</th>\n",
              "      <th>Recall</th>\n",
              "      <th>Train_Accuracy</th>\n",
              "      <th>Test_Accuracy</th>\n",
              "      <th>F1_Score</th>\n",
              "    </tr>\n",
              "  </thead>\n",
              "  <tbody>\n",
              "    <tr>\n",
              "      <th>1</th>\n",
              "      <td>XGBClassifier</td>\n",
              "      <td>0.79</td>\n",
              "      <td>0.80</td>\n",
              "      <td>0.83</td>\n",
              "      <td>0.80</td>\n",
              "      <td>0.79</td>\n",
              "    </tr>\n",
              "    <tr>\n",
              "      <th>2</th>\n",
              "      <td>GradientBoostingClassifier</td>\n",
              "      <td>0.79</td>\n",
              "      <td>0.80</td>\n",
              "      <td>0.82</td>\n",
              "      <td>0.80</td>\n",
              "      <td>0.78</td>\n",
              "    </tr>\n",
              "    <tr>\n",
              "      <th>0</th>\n",
              "      <td>RandomForestClassifier</td>\n",
              "      <td>0.78</td>\n",
              "      <td>0.78</td>\n",
              "      <td>0.80</td>\n",
              "      <td>0.78</td>\n",
              "      <td>0.75</td>\n",
              "    </tr>\n",
              "  </tbody>\n",
              "</table>\n",
              "</div>"
            ],
            "text/plain": [
              "                   Model_Name  Precision  ...  Test_Accuracy  F1_Score\n",
              "1               XGBClassifier       0.79  ...           0.80      0.79\n",
              "2  GradientBoostingClassifier       0.79  ...           0.80      0.78\n",
              "0      RandomForestClassifier       0.78  ...           0.78      0.75\n",
              "\n",
              "[3 rows x 6 columns]"
            ]
          },
          "metadata": {
            "tags": []
          },
          "execution_count": 157
        }
      ]
    },
    {
      "cell_type": "markdown",
      "metadata": {
        "id": "tw_Z0GxtaiTq",
        "colab_type": "text"
      },
      "source": [
        "### KFold Cross Validation and Confusion Matrix\n",
        "  - Emilinate the special situation's influence\n",
        "  - It gives the number of correct and incorrect classification made by the classifier"
      ]
    },
    {
      "cell_type": "code",
      "metadata": {
        "id": "xQP9ZqyDX5Ob",
        "colab_type": "code",
        "outputId": "5beba48a-3478-4d6f-fe35-efb8b74e54d2",
        "colab": {
          "base_uri": "https://localhost:8080/",
          "height": 142
        }
      },
      "source": [
        "kfold = KFold(n_splits=10, random_state=22) # k=10, split the data into 10 equal parts\n",
        "xyz=[]\n",
        "accuracy=[]\n",
        "std=[]\n",
        "models = [rf, xgb, gbc]\n",
        "classifiers = ['Random Forest', 'Xgboost', 'GradientBoosting']\n",
        "for model in models:\n",
        "  cv_result = cross_val_score(model, X_noOut, y_noOut, cv=kfold, scoring=\"accuracy\")\n",
        "  xyz.append(cv_result.mean())\n",
        "  std.append(cv_result.std())\n",
        "  accuracy.append(cv_result)\n",
        "\n",
        "df_final_models = pd.DataFrame({'CV Mean':xyz, 'std':std},index=classifiers)\n",
        "df_final_models"
      ],
      "execution_count": 0,
      "outputs": [
        {
          "output_type": "execute_result",
          "data": {
            "text/html": [
              "<div>\n",
              "<style scoped>\n",
              "    .dataframe tbody tr th:only-of-type {\n",
              "        vertical-align: middle;\n",
              "    }\n",
              "\n",
              "    .dataframe tbody tr th {\n",
              "        vertical-align: top;\n",
              "    }\n",
              "\n",
              "    .dataframe thead th {\n",
              "        text-align: right;\n",
              "    }\n",
              "</style>\n",
              "<table border=\"1\" class=\"dataframe\">\n",
              "  <thead>\n",
              "    <tr style=\"text-align: right;\">\n",
              "      <th></th>\n",
              "      <th>CV Mean</th>\n",
              "      <th>std</th>\n",
              "    </tr>\n",
              "  </thead>\n",
              "  <tbody>\n",
              "    <tr>\n",
              "      <th>Random Forest</th>\n",
              "      <td>0.780226</td>\n",
              "      <td>0.004643</td>\n",
              "    </tr>\n",
              "    <tr>\n",
              "      <th>Xgboost</th>\n",
              "      <td>0.797704</td>\n",
              "      <td>0.004089</td>\n",
              "    </tr>\n",
              "    <tr>\n",
              "      <th>GradientBoosting</th>\n",
              "      <td>0.797035</td>\n",
              "      <td>0.003419</td>\n",
              "    </tr>\n",
              "  </tbody>\n",
              "</table>\n",
              "</div>"
            ],
            "text/plain": [
              "                   CV Mean       std\n",
              "Random Forest     0.780226  0.004643\n",
              "Xgboost           0.797704  0.004089\n",
              "GradientBoosting  0.797035  0.003419"
            ]
          },
          "metadata": {
            "tags": []
          },
          "execution_count": 188
        }
      ]
    },
    {
      "cell_type": "code",
      "metadata": {
        "id": "UZp3Oi5fY5TD",
        "colab_type": "code",
        "outputId": "c1585184-8c63-479c-d06c-f6ca83c01d59",
        "colab": {
          "base_uri": "https://localhost:8080/",
          "height": 428
        }
      },
      "source": [
        "plt.subplots(figsize=(12,6))\n",
        "box = pd.DataFrame(accuracy, index=[classifiers])\n",
        "box.T.boxplot()\n",
        "plt.title(\"Box plot of the KFold Validation\")"
      ],
      "execution_count": 0,
      "outputs": [
        {
          "output_type": "execute_result",
          "data": {
            "text/plain": [
              "Text(0.5, 1.0, 'Box plot of the KFold Validation')"
            ]
          },
          "metadata": {
            "tags": []
          },
          "execution_count": 177
        },
        {
          "output_type": "display_data",
          "data": {
            "image/png": "[encoded data removed]",
            "text/plain": [
              "<Figure size 864x432 with 1 Axes>"
            ]
          },
          "metadata": {
            "tags": []
          }
        }
      ]
    },
    {
      "cell_type": "code",
      "metadata": {
        "id": "4TwUvPEFluVF",
        "colab_type": "code",
        "outputId": "21769adb-cc15-40e4-d2e3-e0484b575959",
        "colab": {
          "base_uri": "https://localhost:8080/",
          "height": 336
        }
      },
      "source": [
        "df_final_models['CV Mean'].plot.barh(width=0.3)\n",
        "plt.title('Average CV Mean Accuracy')\n",
        "fig = plt.gcf()\n",
        "fig.set_size_inches(8, 5)\n",
        "plt.show()"
      ],
      "execution_count": 0,
      "outputs": [
        {
          "output_type": "display_data",
          "data": {
            "image/png": "[encoded data removed]",
            "text/plain": [
              "<Figure size 576x360 with 1 Axes>"
            ]
          },
          "metadata": {
            "tags": []
          }
        }
      ]
    },
    {
      "cell_type": "code",
      "metadata": {
        "id": "iBIiBQCLraHL",
        "colab_type": "code",
        "outputId": "85c560f9-a4c6-404f-83da-08c7e47de493",
        "colab": {
          "base_uri": "https://localhost:8080/",
          "height": 142
        }
      },
      "source": [
        "report=score_model(X_train, y_train, X_valid, y_valid)\n",
        "report"
      ],
      "execution_count": 0,
      "outputs": [
        {
          "output_type": "execute_result",
          "data": {
            "text/html": [
              "<div>\n",
              "<style scoped>\n",
              "    .dataframe tbody tr th:only-of-type {\n",
              "        vertical-align: middle;\n",
              "    }\n",
              "\n",
              "    .dataframe tbody tr th {\n",
              "        vertical-align: top;\n",
              "    }\n",
              "\n",
              "    .dataframe thead th {\n",
              "        text-align: right;\n",
              "    }\n",
              "</style>\n",
              "<table border=\"1\" class=\"dataframe\">\n",
              "  <thead>\n",
              "    <tr style=\"text-align: right;\">\n",
              "      <th></th>\n",
              "      <th>Model_Name</th>\n",
              "      <th>Precision</th>\n",
              "      <th>Recall</th>\n",
              "      <th>Train_Accuracy</th>\n",
              "      <th>Test_Accuracy</th>\n",
              "      <th>F1_Score</th>\n",
              "    </tr>\n",
              "  </thead>\n",
              "  <tbody>\n",
              "    <tr>\n",
              "      <th>1</th>\n",
              "      <td>XGBClassifier</td>\n",
              "      <td>0.79</td>\n",
              "      <td>0.80</td>\n",
              "      <td>0.83</td>\n",
              "      <td>0.80</td>\n",
              "      <td>0.79</td>\n",
              "    </tr>\n",
              "    <tr>\n",
              "      <th>2</th>\n",
              "      <td>GradientBoostingClassifier</td>\n",
              "      <td>0.79</td>\n",
              "      <td>0.80</td>\n",
              "      <td>0.82</td>\n",
              "      <td>0.80</td>\n",
              "      <td>0.78</td>\n",
              "    </tr>\n",
              "    <tr>\n",
              "      <th>0</th>\n",
              "      <td>RandomForestClassifier</td>\n",
              "      <td>0.78</td>\n",
              "      <td>0.78</td>\n",
              "      <td>0.80</td>\n",
              "      <td>0.78</td>\n",
              "      <td>0.75</td>\n",
              "    </tr>\n",
              "  </tbody>\n",
              "</table>\n",
              "</div>"
            ],
            "text/plain": [
              "                   Model_Name  Precision  ...  Test_Accuracy  F1_Score\n",
              "1               XGBClassifier       0.79  ...           0.80      0.79\n",
              "2  GradientBoostingClassifier       0.79  ...           0.80      0.78\n",
              "0      RandomForestClassifier       0.78  ...           0.78      0.75\n",
              "\n",
              "[3 rows x 6 columns]"
            ]
          },
          "metadata": {
            "tags": []
          },
          "execution_count": 182
        }
      ]
    },
    {
      "cell_type": "code",
      "metadata": {
        "id": "ItsicTwDZRtb",
        "colab_type": "code",
        "outputId": "d4c08576-8338-42d1-b372-6bde9f39c222",
        "colab": {
          "base_uri": "https://localhost:8080/",
          "height": 299
        }
      },
      "source": [
        "f, ax = plt.subplots(1,3,figsize=(15,4))\n",
        "y_pred = rf.predict(X_noOut)\n",
        "sns.heatmap(confusion_matrix(y_noOut,y_pred), ax=ax[0], annot=True, fmt='2.0f')\n",
        "ax[0].set_title('Matrix for Random Forest')\n",
        "\n",
        "y_pred = xgb.predict(X_noOut)\n",
        "sns.heatmap(confusion_matrix(y_noOut,y_pred), ax=ax[1], annot=True, fmt='2.0f')\n",
        "ax[1].set_title('Matrix for Xgboost')\n",
        "\n",
        "y_pred = gbc.predict(X_noOut)\n",
        "sns.heatmap(confusion_matrix(y_noOut,y_pred), ax=ax[2], annot=True, fmt='2.0f')\n",
        "ax[2].set_title('Matrix for GradientBoosting')"
      ],
      "execution_count": 0,
      "outputs": [
        {
          "output_type": "execute_result",
          "data": {
            "text/plain": [
              "Text(0.5, 1, 'Matrix for GradientBoosting')"
            ]
          },
          "metadata": {
            "tags": []
          },
          "execution_count": 187
        },
        {
          "output_type": "display_data",
          "data": {
            "image/png": "[encoded data removed]",
            "text/plain": [
              "<Figure size 1080x288 with 6 Axes>"
            ]
          },
          "metadata": {
            "tags": []
          }
        }
      ]
    },
    {
      "cell_type": "code",
      "metadata": {
        "id": "ZG7T6LaYZTl6",
        "colab_type": "code",
        "colab": {}
      },
      "source": [
        ""
      ],
      "execution_count": 0,
      "outputs": []
    }
  ]
}